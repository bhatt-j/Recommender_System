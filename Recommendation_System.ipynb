{
  "nbformat": 4,
  "nbformat_minor": 0,
  "metadata": {
    "colab": {
      "provenance": []
    },
    "kernelspec": {
      "name": "python3",
      "display_name": "Python 3"
    },
    "language_info": {
      "name": "python"
    }
  },
  "cells": [
    {
      "cell_type": "markdown",
      "source": [
        "# Installations"
      ],
      "metadata": {
        "id": "FZSyMpPRt5r5"
      }
    },
    {
      "cell_type": "code",
      "source": [
        "! pip install torch # already installed"
      ],
      "metadata": {
        "id": "Cxd-ku5rswkd"
      },
      "execution_count": null,
      "outputs": []
    },
    {
      "cell_type": "markdown",
      "source": [
        "# Import Libraries"
      ],
      "metadata": {
        "id": "zGG6NlJ_t2fH"
      }
    },
    {
      "cell_type": "code",
      "execution_count": 8,
      "metadata": {
        "id": "FnXE_4U3i0cc"
      },
      "outputs": [],
      "source": [
        "import pandas as pd\n",
        "import numpy as np\n",
        "import matplotlib.pyplot as plt"
      ]
    },
    {
      "cell_type": "code",
      "source": [
        "from collections import defaultdict"
      ],
      "metadata": {
        "id": "sP1AKVq5tyHp"
      },
      "execution_count": 14,
      "outputs": []
    },
    {
      "cell_type": "code",
      "source": [
        "import torch\n",
        "from torch.utils.data import Dataset"
      ],
      "metadata": {
        "id": "W3f_HcrpserC"
      },
      "execution_count": 18,
      "outputs": []
    },
    {
      "cell_type": "code",
      "source": [
        "data = pd.read_csv(\"Amazon_ratings.csv\")\n",
        "print(data.head(3))"
      ],
      "metadata": {
        "colab": {
          "base_uri": "https://localhost:8080/"
        },
        "id": "xqHhriGgj1Su",
        "outputId": "8f93d95f-14a2-4411-aa4c-cc5cbc631e16"
      },
      "execution_count": 9,
      "outputs": [
        {
          "output_type": "stream",
          "name": "stdout",
          "text": [
            "    AKM1MP6P0OYPR  0132793040  5.0    1365811200\n",
            "0  A2CX7LUOHB2NDG  0321732944  5.0  1.341101e+09\n",
            "1  A2NWSAGRHCP8N5  0439886341  1.0  1.367194e+09\n",
            "2  A2WNBOD3WNDNKT  0439886341  3.0  1.374451e+09\n"
          ]
        }
      ]
    },
    {
      "cell_type": "code",
      "source": [
        "# adding column names\n",
        "data.columns = ['userID','productID','ratings','timestamp']"
      ],
      "metadata": {
        "id": "8oVqpsm4kic8"
      },
      "execution_count": 10,
      "outputs": []
    },
    {
      "cell_type": "code",
      "source": [
        "len(data)"
      ],
      "metadata": {
        "colab": {
          "base_uri": "https://localhost:8080/"
        },
        "id": "blXmzpPZoMmf",
        "outputId": "d6ed790a-0894-442c-8f5d-7a0771fcf30c"
      },
      "execution_count": 11,
      "outputs": [
        {
          "output_type": "execute_result",
          "data": {
            "text/plain": [
              "51777"
            ]
          },
          "metadata": {},
          "execution_count": 11
        }
      ]
    },
    {
      "cell_type": "markdown",
      "source": [
        "# Preprocessing"
      ],
      "metadata": {
        "id": "bvnSFvettYQ3"
      }
    },
    {
      "cell_type": "code",
      "source": [
        "data = data.sort_values(by=[\"userID\", \"timestamp\"])"
      ],
      "metadata": {
        "id": "6YkzZqNKoRoo"
      },
      "execution_count": 13,
      "outputs": []
    },
    {
      "cell_type": "code",
      "source": [
        "# convert to sequence\n",
        "user_interactions = defaultdict(list)\n",
        "\n",
        "for _, row in data.iterrows():\n",
        "  user_interactions[row[\"userID\"]].append(row[\"productID\"])\n",
        "\n",
        "user_sequences = list(user_interactions.values())"
      ],
      "metadata": {
        "id": "zrhDkB2YtVbk"
      },
      "execution_count": 15,
      "outputs": []
    },
    {
      "cell_type": "markdown",
      "source": [
        "# Data Split"
      ],
      "metadata": {
        "id": "uibWveFMvQyy"
      }
    },
    {
      "cell_type": "code",
      "source": [
        "train_seq = [seq[:-1] for seq in user_sequences] # train data\n",
        "test_seq = [seq[-1] for seq in user_sequences] # test data"
      ],
      "metadata": {
        "id": "YZWRk1YtvOaJ"
      },
      "execution_count": 17,
      "outputs": []
    }
  ]
}